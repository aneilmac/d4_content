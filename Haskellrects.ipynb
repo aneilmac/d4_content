{
 "cells": [
  {
   "cell_type": "code",
   "execution_count": 1,
   "id": "7f4ec72f",
   "metadata": {},
   "outputs": [],
   "source": [
    "type Rect = (Int, Int, Int, Int)"
   ]
  },
  {
   "cell_type": "code",
   "execution_count": 2,
   "id": "6a38c7f8",
   "metadata": {},
   "outputs": [],
   "source": [
    "rectangles :: Int -> Int -> [Rect]\n",
    "rectangles 1    rows = [(0, 1, y, h) | y <- [0..rows-1], h <- [1..rows-y]]\n",
    "rectangles cols rows =\n",
    "  [(0, w, y, h) | w <- [1..cols], y <- [0..rows-1], h <- [1..rows-y]] ++\n",
    "  [(x+1, w, y, h) | (x, w, y, h) <- rectangles (cols-1) rows]"
   ]
  },
  {
   "cell_type": "code",
   "execution_count": 11,
   "id": "fba14d31",
   "metadata": {},
   "outputs": [
    {
     "data": {
      "text/plain": [
       "[(0,1,0,1)]"
      ]
     },
     "metadata": {},
     "output_type": "display_data"
    }
   ],
   "source": [
    "rectangles 1 1"
   ]
  },
  {
   "cell_type": "code",
   "execution_count": 12,
   "id": "70032083",
   "metadata": {},
   "outputs": [
    {
     "data": {
      "text/plain": [
       "[(0,1,0,1),(0,1,0,2),(0,1,1,1)]"
      ]
     },
     "metadata": {},
     "output_type": "display_data"
    }
   ],
   "source": [
    "rectangles 1 2"
   ]
  },
  {
   "cell_type": "code",
   "execution_count": 6,
   "id": "c5f00383",
   "metadata": {},
   "outputs": [],
   "source": [
    "positionPermutations cols rows = [ (x, y, width, height) \n",
    "                                 | height <- [1..rows] -- all heights\n",
    "                                 , y <- [0..rows] -- all y positions\n",
    "                                 , width <- [1..cols] -- all widths\n",
    "                                 , x <- [0..cols] -- all x positions  \n",
    "                                 , x + width <= cols -- filter rectangles: fit board width\n",
    "                                 , y + height <= rows -- filter rectangles: fit board height\n",
    "                                 ]"
   ]
  },
  {
   "cell_type": "code",
   "execution_count": 7,
   "id": "dba60084",
   "metadata": {},
   "outputs": [
    {
     "data": {
      "text/plain": [
       "[(0,0,1,1),(0,1,1,1),(0,2,1,1),(0,0,1,2),(0,1,1,2),(0,0,1,3)]"
      ]
     },
     "metadata": {},
     "output_type": "display_data"
    }
   ],
   "source": [
    "positionPermutations 1 3"
   ]
  },
  {
   "cell_type": "code",
   "execution_count": 9,
   "id": "0504f600",
   "metadata": {},
   "outputs": [
    {
     "data": {
      "text/plain": [
       "[(0,1,0,1)]"
      ]
     },
     "metadata": {},
     "output_type": "display_data"
    }
   ],
   "source": [
    "rectangles 1 1"
   ]
  }
 ],
 "metadata": {
  "kernelspec": {
   "display_name": "Haskell",
   "language": "haskell",
   "name": "haskell"
  },
  "language_info": {
   "codemirror_mode": "ihaskell",
   "file_extension": ".hs",
   "mimetype": "text/x-haskell",
   "name": "haskell",
   "pygments_lexer": "Haskell",
   "version": "8.10.7"
  }
 },
 "nbformat": 4,
 "nbformat_minor": 5
}
